{
 "cells": [
  {
   "cell_type": "code",
   "execution_count": 219,
   "metadata": {},
   "outputs": [],
   "source": [
    "import pandas as pd\n",
    "import requests\n",
    "import time"
   ]
  },
  {
   "cell_type": "code",
   "execution_count": 237,
   "metadata": {},
   "outputs": [],
   "source": [
    "symbol = ['msft', 'aapl', 'amzn', 'adbe', 'qcom', 'orcl', 'acn', 'ibm', 'xom', 'intu',\n",
    "         'pg', 'blk', 'ups', 'hd', 'mcd', 't', 'a', 'wmt', 'dis', 'tgt',\n",
    "         'adi', 'jnj', 'mrk', 'mdt', 'syk', 'cl', 'el', 'ko', 'mmm', 'nke',\n",
    "         'utx', 'lmt', 'axp', 'spg', 'mmc', 'all', 'k', 'low', 'gild', 'yum',\n",
    "         'pld', 'stt', 'ip', 'nee', 'shw', 'ea', 'abt', 'unh', 'vrsn', 'lly']"
   ]
  },
  {
   "cell_type": "code",
   "execution_count": 229,
   "metadata": {},
   "outputs": [],
   "source": [
    "for i in range(len(symbol)):\n",
    "    r = requests.get(f'https://finnhub.io/api/v1/stock/earnings?symbol={symbol[i]}&token=bp4up7vrh5rfu45l0tag').json()\n",
    "    df = pd.DataFrame([r][0])\n",
    "    df = df.iloc[0:72]\n",
    "    df.to_csv(f'stocks/{symbol[i]}_estimate.csv', index=False)\n",
    "    time.sleep(8)"
   ]
  },
  {
   "cell_type": "code",
   "execution_count": null,
   "metadata": {},
   "outputs": [],
   "source": []
  }
 ],
 "metadata": {
  "kernelspec": {
   "display_name": "Python 3",
   "language": "python",
   "name": "python3"
  },
  "language_info": {
   "codemirror_mode": {
    "name": "ipython",
    "version": 3
   },
   "file_extension": ".py",
   "mimetype": "text/x-python",
   "name": "python",
   "nbconvert_exporter": "python",
   "pygments_lexer": "ipython3",
   "version": "3.7.3"
  }
 },
 "nbformat": 4,
 "nbformat_minor": 2
}
