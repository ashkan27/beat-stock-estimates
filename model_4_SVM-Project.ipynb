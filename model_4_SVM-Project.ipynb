{
 "cells": [
  {
   "cell_type": "code",
   "execution_count": 1,
   "metadata": {},
   "outputs": [],
   "source": [
    "import pandas as pd\n",
    "import numpy as np"
   ]
  },
  {
   "cell_type": "code",
   "execution_count": 2,
   "metadata": {},
   "outputs": [
    {
     "data": {
      "text/html": [
       "<div>\n",
       "<style scoped>\n",
       "    .dataframe tbody tr th:only-of-type {\n",
       "        vertical-align: middle;\n",
       "    }\n",
       "\n",
       "    .dataframe tbody tr th {\n",
       "        vertical-align: top;\n",
       "    }\n",
       "\n",
       "    .dataframe thead th {\n",
       "        text-align: right;\n",
       "    }\n",
       "</style>\n",
       "<table border=\"1\" class=\"dataframe\">\n",
       "  <thead>\n",
       "    <tr style=\"text-align: right;\">\n",
       "      <th></th>\n",
       "      <th>actual</th>\n",
       "      <th>estimate</th>\n",
       "      <th>period</th>\n",
       "      <th>symbol</th>\n",
       "      <th>year</th>\n",
       "      <th>quarter</th>\n",
       "      <th>beat</th>\n",
       "      <th>f1_pup</th>\n",
       "      <th>f2_vup</th>\n",
       "      <th>f3_bothup</th>\n",
       "      <th>f4_average_price</th>\n",
       "    </tr>\n",
       "  </thead>\n",
       "  <tbody>\n",
       "    <tr>\n",
       "      <th>0</th>\n",
       "      <td>1.00</td>\n",
       "      <td>1.1300</td>\n",
       "      <td>2019-12-31</td>\n",
       "      <td>YUM</td>\n",
       "      <td>2019</td>\n",
       "      <td>4</td>\n",
       "      <td>0</td>\n",
       "      <td>0.390625</td>\n",
       "      <td>0.437500</td>\n",
       "      <td>0.187500</td>\n",
       "      <td>103.581563</td>\n",
       "    </tr>\n",
       "    <tr>\n",
       "      <th>1</th>\n",
       "      <td>0.80</td>\n",
       "      <td>0.9400</td>\n",
       "      <td>2019-09-30</td>\n",
       "      <td>YUM</td>\n",
       "      <td>2019</td>\n",
       "      <td>3</td>\n",
       "      <td>0</td>\n",
       "      <td>0.468750</td>\n",
       "      <td>0.468750</td>\n",
       "      <td>0.171875</td>\n",
       "      <td>114.279531</td>\n",
       "    </tr>\n",
       "    <tr>\n",
       "      <th>2</th>\n",
       "      <td>0.93</td>\n",
       "      <td>0.8700</td>\n",
       "      <td>2019-06-30</td>\n",
       "      <td>YUM</td>\n",
       "      <td>2019</td>\n",
       "      <td>2</td>\n",
       "      <td>1</td>\n",
       "      <td>0.619048</td>\n",
       "      <td>0.460317</td>\n",
       "      <td>0.253968</td>\n",
       "      <td>103.853810</td>\n",
       "    </tr>\n",
       "    <tr>\n",
       "      <th>3</th>\n",
       "      <td>0.82</td>\n",
       "      <td>0.8100</td>\n",
       "      <td>2019-03-31</td>\n",
       "      <td>YUM</td>\n",
       "      <td>2019</td>\n",
       "      <td>1</td>\n",
       "      <td>1</td>\n",
       "      <td>0.573770</td>\n",
       "      <td>0.557377</td>\n",
       "      <td>0.327869</td>\n",
       "      <td>94.701148</td>\n",
       "    </tr>\n",
       "    <tr>\n",
       "      <th>4</th>\n",
       "      <td>0.40</td>\n",
       "      <td>0.9485</td>\n",
       "      <td>2018-12-31</td>\n",
       "      <td>YUM</td>\n",
       "      <td>2018</td>\n",
       "      <td>4</td>\n",
       "      <td>0</td>\n",
       "      <td>0.523810</td>\n",
       "      <td>0.444444</td>\n",
       "      <td>0.285714</td>\n",
       "      <td>89.395556</td>\n",
       "    </tr>\n",
       "  </tbody>\n",
       "</table>\n",
       "</div>"
      ],
      "text/plain": [
       "   actual  estimate      period symbol  year  quarter  beat    f1_pup  \\\n",
       "0    1.00    1.1300  2019-12-31    YUM  2019        4     0  0.390625   \n",
       "1    0.80    0.9400  2019-09-30    YUM  2019        3     0  0.468750   \n",
       "2    0.93    0.8700  2019-06-30    YUM  2019        2     1  0.619048   \n",
       "3    0.82    0.8100  2019-03-31    YUM  2019        1     1  0.573770   \n",
       "4    0.40    0.9485  2018-12-31    YUM  2018        4     0  0.523810   \n",
       "\n",
       "     f2_vup  f3_bothup  f4_average_price  \n",
       "0  0.437500   0.187500        103.581563  \n",
       "1  0.468750   0.171875        114.279531  \n",
       "2  0.460317   0.253968        103.853810  \n",
       "3  0.557377   0.327869         94.701148  \n",
       "4  0.444444   0.285714         89.395556  "
      ]
     },
     "execution_count": 2,
     "metadata": {},
     "output_type": "execute_result"
    }
   ],
   "source": [
    "df = pd.read_csv(\"features_df.csv\")\n",
    "\n",
    "df = df.dropna(axis='columns', how='all')\n",
    "\n",
    "df = df.dropna()\n",
    "df.head()"
   ]
  },
  {
   "cell_type": "code",
   "execution_count": 3,
   "metadata": {},
   "outputs": [
    {
     "data": {
      "text/plain": [
       "3600"
      ]
     },
     "execution_count": 3,
     "metadata": {},
     "output_type": "execute_result"
    }
   ],
   "source": [
    "len(df)"
   ]
  },
  {
   "cell_type": "code",
   "execution_count": 4,
   "metadata": {},
   "outputs": [],
   "source": [
    "newdf = df[[\"symbol\", \"year\", \"quarter\", \"f1_pup\", \"f2_vup\", \"f3_bothup\", \"f4_average_price\", \"beat\", \"estimate\"]]"
   ]
  },
  {
   "cell_type": "code",
   "execution_count": 5,
   "metadata": {},
   "outputs": [],
   "source": [
    "df_train = newdf.loc[df[\"year\"] <= 2016]\n",
    "df_test = newdf.loc[df[\"year\"] >= 2017]"
   ]
  },
  {
   "cell_type": "code",
   "execution_count": 8,
   "metadata": {},
   "outputs": [],
   "source": [
    "X_train = df_train[['f1_pup', 'f2_vup', 'f3_bothup', 'f4_average_price', 'estimate']]\n",
    "X_test = df_test[['f1_pup', 'f2_vup', 'f3_bothup', 'f4_average_price', 'estimate']]\n",
    "y_train = df_train['beat']\n",
    "y_test = df_test['beat']"
   ]
  },
  {
   "cell_type": "code",
   "execution_count": 9,
   "metadata": {},
   "outputs": [],
   "source": [
    "# Scale your data\n",
    "from sklearn.preprocessing import MinMaxScaler\n",
    "scaler = MinMaxScaler().fit(X_train)\n",
    "X_train_scaled = scaler.transform(X_train)\n",
    "X_test_scaled = scaler.transform(X_test)"
   ]
  },
  {
   "cell_type": "code",
   "execution_count": 10,
   "metadata": {},
   "outputs": [],
   "source": [
    "from sklearn.svm import SVC \n",
    "\n",
    "model = SVC(kernel='linear')"
   ]
  },
  {
   "cell_type": "code",
   "execution_count": 11,
   "metadata": {},
   "outputs": [
    {
     "data": {
      "text/plain": [
       "SVC(C=1.0, cache_size=200, class_weight=None, coef0=0.0,\n",
       "    decision_function_shape='ovr', degree=3, gamma='auto_deprecated',\n",
       "    kernel='linear', max_iter=-1, probability=False, random_state=None,\n",
       "    shrinking=True, tol=0.001, verbose=False)"
      ]
     },
     "execution_count": 11,
     "metadata": {},
     "output_type": "execute_result"
    }
   ],
   "source": [
    "model.fit(X_train_scaled, y_train)"
   ]
  },
  {
   "cell_type": "code",
   "execution_count": 12,
   "metadata": {},
   "outputs": [
    {
     "name": "stdout",
     "output_type": "stream",
     "text": [
      "Training Data Score: 0.8003333333333333\n",
      "Testing Data Score: 0.87\n"
     ]
    }
   ],
   "source": [
    "print(f\"Training Data Score: {model.score(X_train, y_train)}\")\n",
    "print(f\"Testing Data Score: {model.score(X_test, y_test)}\")"
   ]
  },
  {
   "cell_type": "code",
   "execution_count": 13,
   "metadata": {},
   "outputs": [],
   "source": [
    "predictions = model.predict(X_test_scaled)"
   ]
  },
  {
   "cell_type": "code",
   "execution_count": 14,
   "metadata": {},
   "outputs": [
    {
     "data": {
      "text/html": [
       "<div>\n",
       "<style scoped>\n",
       "    .dataframe tbody tr th:only-of-type {\n",
       "        vertical-align: middle;\n",
       "    }\n",
       "\n",
       "    .dataframe tbody tr th {\n",
       "        vertical-align: top;\n",
       "    }\n",
       "\n",
       "    .dataframe thead th {\n",
       "        text-align: right;\n",
       "    }\n",
       "</style>\n",
       "<table border=\"1\" class=\"dataframe\">\n",
       "  <thead>\n",
       "    <tr style=\"text-align: right;\">\n",
       "      <th></th>\n",
       "      <th>Prediction</th>\n",
       "      <th>Actual</th>\n",
       "    </tr>\n",
       "  </thead>\n",
       "  <tbody>\n",
       "    <tr>\n",
       "      <th>0</th>\n",
       "      <td>1</td>\n",
       "      <td>0</td>\n",
       "    </tr>\n",
       "    <tr>\n",
       "      <th>1</th>\n",
       "      <td>1</td>\n",
       "      <td>0</td>\n",
       "    </tr>\n",
       "    <tr>\n",
       "      <th>2</th>\n",
       "      <td>1</td>\n",
       "      <td>1</td>\n",
       "    </tr>\n",
       "    <tr>\n",
       "      <th>3</th>\n",
       "      <td>1</td>\n",
       "      <td>1</td>\n",
       "    </tr>\n",
       "    <tr>\n",
       "      <th>4</th>\n",
       "      <td>1</td>\n",
       "      <td>0</td>\n",
       "    </tr>\n",
       "  </tbody>\n",
       "</table>\n",
       "</div>"
      ],
      "text/plain": [
       "   Prediction  Actual\n",
       "0           1       0\n",
       "1           1       0\n",
       "2           1       1\n",
       "3           1       1\n",
       "4           1       0"
      ]
     },
     "execution_count": 14,
     "metadata": {},
     "output_type": "execute_result"
    }
   ],
   "source": [
    "dd = pd.DataFrame({\"Prediction\": predictions, \"Actual\":y_test})\n",
    "dd.head()"
   ]
  },
  {
   "cell_type": "code",
   "execution_count": 15,
   "metadata": {},
   "outputs": [
    {
     "data": {
      "text/plain": [
       "0.87"
      ]
     },
     "execution_count": 15,
     "metadata": {},
     "output_type": "execute_result"
    }
   ],
   "source": [
    "# To Confirm the accuracy of testing data\n",
    "s = dd[\"Prediction\"].count()\n",
    "wrong = 0\n",
    "for i in range(0,s):\n",
    "    a=dd[\"Prediction\"].iloc[i]\n",
    "    b=dd[\"Actual\"].iloc[i]\n",
    "    if a != b:\n",
    "        wrong = wrong + 1\n",
    "        \n",
    "(s - wrong) / s"
   ]
  },
  {
   "cell_type": "code",
   "execution_count": 16,
   "metadata": {},
   "outputs": [
    {
     "data": {
      "text/html": [
       "<div>\n",
       "<style scoped>\n",
       "    .dataframe tbody tr th:only-of-type {\n",
       "        vertical-align: middle;\n",
       "    }\n",
       "\n",
       "    .dataframe tbody tr th {\n",
       "        vertical-align: top;\n",
       "    }\n",
       "\n",
       "    .dataframe thead th {\n",
       "        text-align: right;\n",
       "    }\n",
       "</style>\n",
       "<table border=\"1\" class=\"dataframe\">\n",
       "  <thead>\n",
       "    <tr style=\"text-align: right;\">\n",
       "      <th></th>\n",
       "      <th>Prediction</th>\n",
       "      <th>Actual</th>\n",
       "    </tr>\n",
       "  </thead>\n",
       "  <tbody>\n",
       "  </tbody>\n",
       "</table>\n",
       "</div>"
      ],
      "text/plain": [
       "Empty DataFrame\n",
       "Columns: [Prediction, Actual]\n",
       "Index: []"
      ]
     },
     "execution_count": 16,
     "metadata": {},
     "output_type": "execute_result"
    }
   ],
   "source": [
    "df_check = dd.loc[dd[\"Prediction\"] == 0]\n",
    "df_check"
   ]
  },
  {
   "cell_type": "markdown",
   "metadata": {},
   "source": [
    "# Hyperparameter Tuning"
   ]
  },
  {
   "cell_type": "code",
   "execution_count": 17,
   "metadata": {},
   "outputs": [],
   "source": [
    "from sklearn.model_selection import GridSearchCV\n",
    "param_grid = {'C': [1, 10], 'kernel' : ['rbf', 'linear', 'sigmoid'], 'gamma' : ['scale', 'auto']}\n",
    "\n",
    "grid = GridSearchCV(model, param_grid, verbose = 3)"
   ]
  },
  {
   "cell_type": "code",
   "execution_count": 18,
   "metadata": {},
   "outputs": [
    {
     "name": "stderr",
     "output_type": "stream",
     "text": [
      "C:\\Users\\ashka\\Anaconda3\\lib\\site-packages\\sklearn\\model_selection\\_split.py:1978: FutureWarning: The default value of cv will change from 3 to 5 in version 0.22. Specify it explicitly to silence this warning.\n",
      "  warnings.warn(CV_WARNING, FutureWarning)\n",
      "[Parallel(n_jobs=1)]: Using backend SequentialBackend with 1 concurrent workers.\n",
      "[Parallel(n_jobs=1)]: Done   1 out of   1 | elapsed:    0.1s remaining:    0.0s\n"
     ]
    },
    {
     "name": "stdout",
     "output_type": "stream",
     "text": [
      "Fitting 3 folds for each of 12 candidates, totalling 36 fits\n",
      "[CV] C=1, gamma=scale, kernel=rbf ....................................\n",
      "[CV] ........ C=1, gamma=scale, kernel=rbf, score=0.800, total=   0.2s\n",
      "[CV] C=1, gamma=scale, kernel=rbf ....................................\n",
      "[CV] ........ C=1, gamma=scale, kernel=rbf, score=0.800, total=   0.2s\n",
      "[CV] C=1, gamma=scale, kernel=rbf ....................................\n",
      "[CV] ........ C=1, gamma=scale, kernel=rbf, score=0.801, total=   0.2s\n",
      "[CV] C=1, gamma=scale, kernel=linear .................................\n"
     ]
    },
    {
     "name": "stderr",
     "output_type": "stream",
     "text": [
      "[Parallel(n_jobs=1)]: Done   2 out of   2 | elapsed:    0.3s remaining:    0.0s\n"
     ]
    },
    {
     "name": "stdout",
     "output_type": "stream",
     "text": [
      "[CV] ..... C=1, gamma=scale, kernel=linear, score=0.800, total=   0.0s\n",
      "[CV] C=1, gamma=scale, kernel=linear .................................\n",
      "[CV] ..... C=1, gamma=scale, kernel=linear, score=0.800, total=   0.0s\n",
      "[CV] C=1, gamma=scale, kernel=linear .................................\n",
      "[CV] ..... C=1, gamma=scale, kernel=linear, score=0.801, total=   0.0s\n",
      "[CV] C=1, gamma=scale, kernel=sigmoid ................................\n",
      "[CV] .... C=1, gamma=scale, kernel=sigmoid, score=0.800, total=   0.1s\n",
      "[CV] C=1, gamma=scale, kernel=sigmoid ................................\n",
      "[CV] .... C=1, gamma=scale, kernel=sigmoid, score=0.800, total=   0.1s\n",
      "[CV] C=1, gamma=scale, kernel=sigmoid ................................\n",
      "[CV] .... C=1, gamma=scale, kernel=sigmoid, score=0.801, total=   0.1s\n",
      "[CV] C=1, gamma=auto, kernel=rbf .....................................\n",
      "[CV] ......... C=1, gamma=auto, kernel=rbf, score=0.800, total=   0.1s\n",
      "[CV] C=1, gamma=auto, kernel=rbf .....................................\n",
      "[CV] ......... C=1, gamma=auto, kernel=rbf, score=0.800, total=   0.1s\n",
      "[CV] C=1, gamma=auto, kernel=rbf .....................................\n",
      "[CV] ......... C=1, gamma=auto, kernel=rbf, score=0.801, total=   0.1s\n",
      "[CV] C=1, gamma=auto, kernel=linear ..................................\n",
      "[CV] ...... C=1, gamma=auto, kernel=linear, score=0.800, total=   0.0s\n",
      "[CV] C=1, gamma=auto, kernel=linear ..................................\n",
      "[CV] ...... C=1, gamma=auto, kernel=linear, score=0.800, total=   0.0s\n",
      "[CV] C=1, gamma=auto, kernel=linear ..................................\n",
      "[CV] ...... C=1, gamma=auto, kernel=linear, score=0.801, total=   0.0s\n",
      "[CV] C=1, gamma=auto, kernel=sigmoid .................................\n",
      "[CV] ..... C=1, gamma=auto, kernel=sigmoid, score=0.800, total=   0.1s\n",
      "[CV] C=1, gamma=auto, kernel=sigmoid .................................\n",
      "[CV] ..... C=1, gamma=auto, kernel=sigmoid, score=0.800, total=   0.1s\n",
      "[CV] C=1, gamma=auto, kernel=sigmoid .................................\n",
      "[CV] ..... C=1, gamma=auto, kernel=sigmoid, score=0.801, total=   0.1s\n",
      "[CV] C=10, gamma=scale, kernel=rbf ...................................\n",
      "[CV] ....... C=10, gamma=scale, kernel=rbf, score=0.800, total=   0.6s\n",
      "[CV] C=10, gamma=scale, kernel=rbf ...................................\n",
      "[CV] ....... C=10, gamma=scale, kernel=rbf, score=0.799, total=   0.7s\n",
      "[CV] C=10, gamma=scale, kernel=rbf ...................................\n",
      "[CV] ....... C=10, gamma=scale, kernel=rbf, score=0.799, total=   0.6s\n",
      "[CV] C=10, gamma=scale, kernel=linear ................................\n",
      "[CV] .... C=10, gamma=scale, kernel=linear, score=0.800, total=   0.0s\n",
      "[CV] C=10, gamma=scale, kernel=linear ................................\n",
      "[CV] .... C=10, gamma=scale, kernel=linear, score=0.800, total=   0.0s\n",
      "[CV] C=10, gamma=scale, kernel=linear ................................\n",
      "[CV] .... C=10, gamma=scale, kernel=linear, score=0.801, total=   0.0s\n",
      "[CV] C=10, gamma=scale, kernel=sigmoid ...............................\n",
      "[CV] ... C=10, gamma=scale, kernel=sigmoid, score=0.703, total=   0.1s\n",
      "[CV] C=10, gamma=scale, kernel=sigmoid ...............................\n",
      "[CV] ... C=10, gamma=scale, kernel=sigmoid, score=0.663, total=   0.1s\n",
      "[CV] C=10, gamma=scale, kernel=sigmoid ...............................\n",
      "[CV] ... C=10, gamma=scale, kernel=sigmoid, score=0.739, total=   0.1s\n",
      "[CV] C=10, gamma=auto, kernel=rbf ....................................\n",
      "[CV] ........ C=10, gamma=auto, kernel=rbf, score=0.800, total=   0.1s\n",
      "[CV] C=10, gamma=auto, kernel=rbf ....................................\n",
      "[CV] ........ C=10, gamma=auto, kernel=rbf, score=0.800, total=   0.1s\n",
      "[CV] C=10, gamma=auto, kernel=rbf ....................................\n",
      "[CV] ........ C=10, gamma=auto, kernel=rbf, score=0.801, total=   0.1s\n",
      "[CV] C=10, gamma=auto, kernel=linear .................................\n",
      "[CV] ..... C=10, gamma=auto, kernel=linear, score=0.800, total=   0.0s\n",
      "[CV] C=10, gamma=auto, kernel=linear .................................\n",
      "[CV] ..... C=10, gamma=auto, kernel=linear, score=0.800, total=   0.0s\n",
      "[CV] C=10, gamma=auto, kernel=linear .................................\n",
      "[CV] ..... C=10, gamma=auto, kernel=linear, score=0.801, total=   0.0s\n",
      "[CV] C=10, gamma=auto, kernel=sigmoid ................................\n",
      "[CV] .... C=10, gamma=auto, kernel=sigmoid, score=0.800, total=   0.1s\n",
      "[CV] C=10, gamma=auto, kernel=sigmoid ................................\n",
      "[CV] .... C=10, gamma=auto, kernel=sigmoid, score=0.800, total=   0.1s\n",
      "[CV] C=10, gamma=auto, kernel=sigmoid ................................\n",
      "[CV] .... C=10, gamma=auto, kernel=sigmoid, score=0.801, total=   0.1s\n"
     ]
    },
    {
     "name": "stderr",
     "output_type": "stream",
     "text": [
      "[Parallel(n_jobs=1)]: Done  36 out of  36 | elapsed:    4.4s finished\n"
     ]
    },
    {
     "data": {
      "text/plain": [
       "GridSearchCV(cv='warn', error_score='raise-deprecating',\n",
       "             estimator=SVC(C=1.0, cache_size=200, class_weight=None, coef0=0.0,\n",
       "                           decision_function_shape='ovr', degree=3,\n",
       "                           gamma='auto_deprecated', kernel='linear',\n",
       "                           max_iter=-1, probability=False, random_state=None,\n",
       "                           shrinking=True, tol=0.001, verbose=False),\n",
       "             iid='warn', n_jobs=None,\n",
       "             param_grid={'C': [1, 10], 'gamma': ['scale', 'auto'],\n",
       "                         'kernel': ['rbf', 'linear', 'sigmoid']},\n",
       "             pre_dispatch='2*n_jobs', refit=True, return_train_score=False,\n",
       "             scoring=None, verbose=3)"
      ]
     },
     "execution_count": 18,
     "metadata": {},
     "output_type": "execute_result"
    }
   ],
   "source": [
    "# Train the model with GridSearch\n",
    "grid.fit(X_train_scaled, y_train)"
   ]
  },
  {
   "cell_type": "code",
   "execution_count": 19,
   "metadata": {},
   "outputs": [
    {
     "name": "stdout",
     "output_type": "stream",
     "text": [
      "{'C': 1, 'gamma': 'scale', 'kernel': 'rbf'}\n",
      "0.8003333333333333\n"
     ]
    }
   ],
   "source": [
    "print(grid.best_params_)\n",
    "print(grid.best_score_)"
   ]
  },
  {
   "cell_type": "code",
   "execution_count": 20,
   "metadata": {},
   "outputs": [],
   "source": [
    "predictions = grid.predict(X_test_scaled)"
   ]
  },
  {
   "cell_type": "code",
   "execution_count": 21,
   "metadata": {},
   "outputs": [
    {
     "name": "stdout",
     "output_type": "stream",
     "text": [
      "              precision    recall  f1-score   support\n",
      "\n",
      "    Not Beat       0.00      0.00      0.00        78\n",
      "        Beat       0.87      1.00      0.93       522\n",
      "\n",
      "    accuracy                           0.87       600\n",
      "   macro avg       0.43      0.50      0.47       600\n",
      "weighted avg       0.76      0.87      0.81       600\n",
      "\n"
     ]
    },
    {
     "name": "stderr",
     "output_type": "stream",
     "text": [
      "C:\\Users\\ashka\\Anaconda3\\lib\\site-packages\\sklearn\\metrics\\classification.py:1437: UndefinedMetricWarning: Precision and F-score are ill-defined and being set to 0.0 in labels with no predicted samples.\n",
      "  'precision', 'predicted', average, warn_for)\n"
     ]
    }
   ],
   "source": [
    "target_names = [\"Not Beat\", \"Beat\"]\n",
    "from sklearn.metrics import classification_report\n",
    "print(classification_report(y_test, predictions,\n",
    "                            target_names=target_names))"
   ]
  },
  {
   "cell_type": "code",
   "execution_count": 22,
   "metadata": {},
   "outputs": [
    {
     "name": "stdout",
     "output_type": "stream",
     "text": [
      "Training Data Score: 0.8003333333333333\n",
      "Testing Data Score: 0.87\n"
     ]
    }
   ],
   "source": [
    "print(f\"Training Data Score: {grid.score(X_train, y_train)}\")\n",
    "print(f\"Testing Data Score: {grid.score(X_test, y_test)}\")"
   ]
  },
  {
   "cell_type": "code",
   "execution_count": 23,
   "metadata": {},
   "outputs": [
    {
     "data": {
      "text/html": [
       "<div>\n",
       "<style scoped>\n",
       "    .dataframe tbody tr th:only-of-type {\n",
       "        vertical-align: middle;\n",
       "    }\n",
       "\n",
       "    .dataframe tbody tr th {\n",
       "        vertical-align: top;\n",
       "    }\n",
       "\n",
       "    .dataframe thead th {\n",
       "        text-align: right;\n",
       "    }\n",
       "</style>\n",
       "<table border=\"1\" class=\"dataframe\">\n",
       "  <thead>\n",
       "    <tr style=\"text-align: right;\">\n",
       "      <th></th>\n",
       "      <th>Prediction</th>\n",
       "      <th>Actual</th>\n",
       "    </tr>\n",
       "  </thead>\n",
       "  <tbody>\n",
       "    <tr>\n",
       "      <th>0</th>\n",
       "      <td>1</td>\n",
       "      <td>0</td>\n",
       "    </tr>\n",
       "    <tr>\n",
       "      <th>1</th>\n",
       "      <td>1</td>\n",
       "      <td>0</td>\n",
       "    </tr>\n",
       "    <tr>\n",
       "      <th>2</th>\n",
       "      <td>1</td>\n",
       "      <td>1</td>\n",
       "    </tr>\n",
       "    <tr>\n",
       "      <th>3</th>\n",
       "      <td>1</td>\n",
       "      <td>1</td>\n",
       "    </tr>\n",
       "    <tr>\n",
       "      <th>4</th>\n",
       "      <td>1</td>\n",
       "      <td>0</td>\n",
       "    </tr>\n",
       "  </tbody>\n",
       "</table>\n",
       "</div>"
      ],
      "text/plain": [
       "   Prediction  Actual\n",
       "0           1       0\n",
       "1           1       0\n",
       "2           1       1\n",
       "3           1       1\n",
       "4           1       0"
      ]
     },
     "execution_count": 23,
     "metadata": {},
     "output_type": "execute_result"
    }
   ],
   "source": [
    "gg = pd.DataFrame({\"Prediction\": predictions, \"Actual\":y_test})\n",
    "gg.head()"
   ]
  },
  {
   "cell_type": "code",
   "execution_count": 24,
   "metadata": {},
   "outputs": [
    {
     "data": {
      "text/plain": [
       "0.87"
      ]
     },
     "execution_count": 24,
     "metadata": {},
     "output_type": "execute_result"
    }
   ],
   "source": [
    "s = gg[\"Prediction\"].count()\n",
    "wrong = 0\n",
    "for i in range(0,s):\n",
    "    a=gg[\"Prediction\"].iloc[i]\n",
    "    b=gg[\"Actual\"].iloc[i]\n",
    "    if a != b:\n",
    "        wrong = wrong + 1\n",
    "        \n",
    "(s - wrong) / s"
   ]
  },
  {
   "cell_type": "code",
   "execution_count": null,
   "metadata": {},
   "outputs": [],
   "source": []
  }
 ],
 "metadata": {
  "kernelspec": {
   "display_name": "Python 3",
   "language": "python",
   "name": "python3"
  },
  "language_info": {
   "codemirror_mode": {
    "name": "ipython",
    "version": 3
   },
   "file_extension": ".py",
   "mimetype": "text/x-python",
   "name": "python",
   "nbconvert_exporter": "python",
   "pygments_lexer": "ipython3",
   "version": "3.7.3"
  }
 },
 "nbformat": 4,
 "nbformat_minor": 2
}
