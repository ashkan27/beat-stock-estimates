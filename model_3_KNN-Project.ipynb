{
 "cells": [
  {
   "cell_type": "code",
   "execution_count": 1,
   "metadata": {},
   "outputs": [],
   "source": [
    "import pandas as pd\n",
    "import numpy as np"
   ]
  },
  {
   "cell_type": "code",
   "execution_count": 2,
   "metadata": {},
   "outputs": [
    {
     "data": {
      "text/html": [
       "<div>\n",
       "<style scoped>\n",
       "    .dataframe tbody tr th:only-of-type {\n",
       "        vertical-align: middle;\n",
       "    }\n",
       "\n",
       "    .dataframe tbody tr th {\n",
       "        vertical-align: top;\n",
       "    }\n",
       "\n",
       "    .dataframe thead th {\n",
       "        text-align: right;\n",
       "    }\n",
       "</style>\n",
       "<table border=\"1\" class=\"dataframe\">\n",
       "  <thead>\n",
       "    <tr style=\"text-align: right;\">\n",
       "      <th></th>\n",
       "      <th>actual</th>\n",
       "      <th>estimate</th>\n",
       "      <th>period</th>\n",
       "      <th>symbol</th>\n",
       "      <th>year</th>\n",
       "      <th>quarter</th>\n",
       "      <th>beat</th>\n",
       "      <th>f1_pup</th>\n",
       "      <th>f2_vup</th>\n",
       "      <th>f3_bothup</th>\n",
       "      <th>f4_average_price</th>\n",
       "    </tr>\n",
       "  </thead>\n",
       "  <tbody>\n",
       "    <tr>\n",
       "      <th>0</th>\n",
       "      <td>1.00</td>\n",
       "      <td>1.1300</td>\n",
       "      <td>2019-12-31</td>\n",
       "      <td>YUM</td>\n",
       "      <td>2019</td>\n",
       "      <td>4</td>\n",
       "      <td>0</td>\n",
       "      <td>0.390625</td>\n",
       "      <td>0.437500</td>\n",
       "      <td>0.187500</td>\n",
       "      <td>103.581563</td>\n",
       "    </tr>\n",
       "    <tr>\n",
       "      <th>1</th>\n",
       "      <td>0.80</td>\n",
       "      <td>0.9400</td>\n",
       "      <td>2019-09-30</td>\n",
       "      <td>YUM</td>\n",
       "      <td>2019</td>\n",
       "      <td>3</td>\n",
       "      <td>0</td>\n",
       "      <td>0.468750</td>\n",
       "      <td>0.468750</td>\n",
       "      <td>0.171875</td>\n",
       "      <td>114.279531</td>\n",
       "    </tr>\n",
       "    <tr>\n",
       "      <th>2</th>\n",
       "      <td>0.93</td>\n",
       "      <td>0.8700</td>\n",
       "      <td>2019-06-30</td>\n",
       "      <td>YUM</td>\n",
       "      <td>2019</td>\n",
       "      <td>2</td>\n",
       "      <td>1</td>\n",
       "      <td>0.619048</td>\n",
       "      <td>0.460317</td>\n",
       "      <td>0.253968</td>\n",
       "      <td>103.853810</td>\n",
       "    </tr>\n",
       "    <tr>\n",
       "      <th>3</th>\n",
       "      <td>0.82</td>\n",
       "      <td>0.8100</td>\n",
       "      <td>2019-03-31</td>\n",
       "      <td>YUM</td>\n",
       "      <td>2019</td>\n",
       "      <td>1</td>\n",
       "      <td>1</td>\n",
       "      <td>0.573770</td>\n",
       "      <td>0.557377</td>\n",
       "      <td>0.327869</td>\n",
       "      <td>94.701148</td>\n",
       "    </tr>\n",
       "    <tr>\n",
       "      <th>4</th>\n",
       "      <td>0.40</td>\n",
       "      <td>0.9485</td>\n",
       "      <td>2018-12-31</td>\n",
       "      <td>YUM</td>\n",
       "      <td>2018</td>\n",
       "      <td>4</td>\n",
       "      <td>0</td>\n",
       "      <td>0.523810</td>\n",
       "      <td>0.444444</td>\n",
       "      <td>0.285714</td>\n",
       "      <td>89.395556</td>\n",
       "    </tr>\n",
       "  </tbody>\n",
       "</table>\n",
       "</div>"
      ],
      "text/plain": [
       "   actual  estimate      period symbol  year  quarter  beat    f1_pup  \\\n",
       "0    1.00    1.1300  2019-12-31    YUM  2019        4     0  0.390625   \n",
       "1    0.80    0.9400  2019-09-30    YUM  2019        3     0  0.468750   \n",
       "2    0.93    0.8700  2019-06-30    YUM  2019        2     1  0.619048   \n",
       "3    0.82    0.8100  2019-03-31    YUM  2019        1     1  0.573770   \n",
       "4    0.40    0.9485  2018-12-31    YUM  2018        4     0  0.523810   \n",
       "\n",
       "     f2_vup  f3_bothup  f4_average_price  \n",
       "0  0.437500   0.187500        103.581563  \n",
       "1  0.468750   0.171875        114.279531  \n",
       "2  0.460317   0.253968        103.853810  \n",
       "3  0.557377   0.327869         94.701148  \n",
       "4  0.444444   0.285714         89.395556  "
      ]
     },
     "execution_count": 2,
     "metadata": {},
     "output_type": "execute_result"
    }
   ],
   "source": [
    "df = pd.read_csv(\"features_df.csv\")\n",
    "df = df.dropna(axis='columns', how='all')\n",
    "df = df.dropna()\n",
    "df.head()"
   ]
  },
  {
   "cell_type": "code",
   "execution_count": 3,
   "metadata": {
    "scrolled": true
   },
   "outputs": [
    {
     "data": {
      "text/plain": [
       "3600"
      ]
     },
     "execution_count": 3,
     "metadata": {},
     "output_type": "execute_result"
    }
   ],
   "source": [
    "len(df)"
   ]
  },
  {
   "cell_type": "code",
   "execution_count": 4,
   "metadata": {},
   "outputs": [],
   "source": [
    "newdf = df[[\"symbol\", \"year\", \"quarter\", \"f1_pup\", \"f2_vup\", \"f3_bothup\", \"f4_average_price\", \"beat\", \"estimate\"]]"
   ]
  },
  {
   "cell_type": "code",
   "execution_count": 5,
   "metadata": {},
   "outputs": [],
   "source": [
    "df_train = newdf.loc[df[\"year\"] <= 2016]\n",
    "df_test = newdf.loc[df[\"year\"] >= 2017]"
   ]
  },
  {
   "cell_type": "code",
   "execution_count": 6,
   "metadata": {},
   "outputs": [],
   "source": [
    "# Set features. This will also be used as your x values.\n",
    "X_train = df_train[['f1_pup', 'f2_vup', 'f3_bothup', 'f4_average_price', \"estimate\"]]\n",
    "X_test = df_test[['f1_pup', 'f2_vup', 'f3_bothup', 'f4_average_price', \"estimate\"]]\n",
    "y_train = df_train['beat']\n",
    "y_test = df_test['beat']"
   ]
  },
  {
   "cell_type": "code",
   "execution_count": 7,
   "metadata": {},
   "outputs": [],
   "source": [
    "from sklearn.preprocessing import MinMaxScaler\n",
    "scaler = MinMaxScaler().fit(X_train)\n",
    "X_train_scaled = scaler.transform(X_train)\n",
    "X_test_scaled = scaler.transform(X_test)"
   ]
  },
  {
   "cell_type": "code",
   "execution_count": 8,
   "metadata": {},
   "outputs": [
    {
     "data": {
      "text/plain": [
       "KNeighborsClassifier(algorithm='auto', leaf_size=30, metric='minkowski',\n",
       "                     metric_params=None, n_jobs=None, n_neighbors=5, p=2,\n",
       "                     weights='uniform')"
      ]
     },
     "execution_count": 8,
     "metadata": {},
     "output_type": "execute_result"
    }
   ],
   "source": [
    "from sklearn.neighbors import KNeighborsClassifier\n",
    "knn = KNeighborsClassifier(n_neighbors=5)\n",
    "knn.fit(X_train_scaled, y_train)"
   ]
  },
  {
   "cell_type": "code",
   "execution_count": 9,
   "metadata": {},
   "outputs": [
    {
     "name": "stdout",
     "output_type": "stream",
     "text": [
      "Training Data Score: 0.8173333333333334\n",
      "Testing Data Score: 0.8366666666666667\n"
     ]
    }
   ],
   "source": [
    "print(f\"Training Data Score: {knn.score(X_train_scaled, y_train)}\")\n",
    "print(f\"Testing Data Score: {knn.score(X_test_scaled, y_test)}\")"
   ]
  },
  {
   "cell_type": "code",
   "execution_count": 10,
   "metadata": {},
   "outputs": [],
   "source": [
    "predictions = knn.predict(X_test_scaled)"
   ]
  },
  {
   "cell_type": "code",
   "execution_count": 11,
   "metadata": {},
   "outputs": [
    {
     "data": {
      "text/html": [
       "<div>\n",
       "<style scoped>\n",
       "    .dataframe tbody tr th:only-of-type {\n",
       "        vertical-align: middle;\n",
       "    }\n",
       "\n",
       "    .dataframe tbody tr th {\n",
       "        vertical-align: top;\n",
       "    }\n",
       "\n",
       "    .dataframe thead th {\n",
       "        text-align: right;\n",
       "    }\n",
       "</style>\n",
       "<table border=\"1\" class=\"dataframe\">\n",
       "  <thead>\n",
       "    <tr style=\"text-align: right;\">\n",
       "      <th></th>\n",
       "      <th>Prediction</th>\n",
       "      <th>Actual</th>\n",
       "    </tr>\n",
       "  </thead>\n",
       "  <tbody>\n",
       "    <tr>\n",
       "      <th>0</th>\n",
       "      <td>1</td>\n",
       "      <td>0</td>\n",
       "    </tr>\n",
       "    <tr>\n",
       "      <th>1</th>\n",
       "      <td>1</td>\n",
       "      <td>0</td>\n",
       "    </tr>\n",
       "    <tr>\n",
       "      <th>2</th>\n",
       "      <td>1</td>\n",
       "      <td>1</td>\n",
       "    </tr>\n",
       "    <tr>\n",
       "      <th>3</th>\n",
       "      <td>1</td>\n",
       "      <td>1</td>\n",
       "    </tr>\n",
       "    <tr>\n",
       "      <th>4</th>\n",
       "      <td>1</td>\n",
       "      <td>0</td>\n",
       "    </tr>\n",
       "  </tbody>\n",
       "</table>\n",
       "</div>"
      ],
      "text/plain": [
       "   Prediction  Actual\n",
       "0           1       0\n",
       "1           1       0\n",
       "2           1       1\n",
       "3           1       1\n",
       "4           1       0"
      ]
     },
     "execution_count": 11,
     "metadata": {},
     "output_type": "execute_result"
    }
   ],
   "source": [
    "dd = pd.DataFrame({\"Prediction\": predictions, \"Actual\":y_test})\n",
    "dd.head()"
   ]
  },
  {
   "cell_type": "code",
   "execution_count": 12,
   "metadata": {},
   "outputs": [
    {
     "data": {
      "text/plain": [
       "0.8366666666666667"
      ]
     },
     "execution_count": 12,
     "metadata": {},
     "output_type": "execute_result"
    }
   ],
   "source": [
    "# To Confirm the accuracy of testing data\n",
    "s = dd[\"Prediction\"].count()\n",
    "wrong = 0\n",
    "for i in range(0,s):\n",
    "    a=dd[\"Prediction\"].iloc[i]\n",
    "    b=dd[\"Actual\"].iloc[i]\n",
    "    if a != b:\n",
    "        wrong = wrong + 1\n",
    "        \n",
    "(s - wrong) / s"
   ]
  },
  {
   "cell_type": "code",
   "execution_count": 13,
   "metadata": {},
   "outputs": [
    {
     "data": {
      "text/html": [
       "<div>\n",
       "<style scoped>\n",
       "    .dataframe tbody tr th:only-of-type {\n",
       "        vertical-align: middle;\n",
       "    }\n",
       "\n",
       "    .dataframe tbody tr th {\n",
       "        vertical-align: top;\n",
       "    }\n",
       "\n",
       "    .dataframe thead th {\n",
       "        text-align: right;\n",
       "    }\n",
       "</style>\n",
       "<table border=\"1\" class=\"dataframe\">\n",
       "  <thead>\n",
       "    <tr style=\"text-align: right;\">\n",
       "      <th></th>\n",
       "      <th>Prediction</th>\n",
       "      <th>Actual</th>\n",
       "    </tr>\n",
       "  </thead>\n",
       "  <tbody>\n",
       "    <tr>\n",
       "      <th>75</th>\n",
       "      <td>0</td>\n",
       "      <td>0</td>\n",
       "    </tr>\n",
       "    <tr>\n",
       "      <th>297</th>\n",
       "      <td>0</td>\n",
       "      <td>1</td>\n",
       "    </tr>\n",
       "    <tr>\n",
       "      <th>504</th>\n",
       "      <td>0</td>\n",
       "      <td>1</td>\n",
       "    </tr>\n",
       "    <tr>\n",
       "      <th>513</th>\n",
       "      <td>0</td>\n",
       "      <td>1</td>\n",
       "    </tr>\n",
       "    <tr>\n",
       "      <th>659</th>\n",
       "      <td>0</td>\n",
       "      <td>1</td>\n",
       "    </tr>\n",
       "  </tbody>\n",
       "</table>\n",
       "</div>"
      ],
      "text/plain": [
       "     Prediction  Actual\n",
       "75            0       0\n",
       "297           0       1\n",
       "504           0       1\n",
       "513           0       1\n",
       "659           0       1"
      ]
     },
     "execution_count": 13,
     "metadata": {},
     "output_type": "execute_result"
    }
   ],
   "source": [
    "df_check = dd.loc[dd[\"Prediction\"] == 0]\n",
    "df_check.head()"
   ]
  },
  {
   "cell_type": "code",
   "execution_count": 32,
   "metadata": {},
   "outputs": [
    {
     "data": {
      "image/png": "[encoded data removed]",
      "text/plain": [
       "<Figure size 432x288 with 1 Axes>"
      ]
     },
     "metadata": {},
     "output_type": "display_data"
    }
   ],
   "source": [
    "from sklearn.metrics import confusion_matrix\n",
    "import matplotlib.pyplot as plt\n",
    "\n",
    "conf = confusion_matrix(dd['Actual'], dd['Prediction'])\n",
    "\n",
    "tn = conf[0][0]\n",
    "fp = conf[0][1]\n",
    "fn = conf[1][0]\n",
    "tp = conf[1][1]\n",
    "\n",
    "labels = 'True Negative', 'False Negative', 'False Positive', 'True Positive'\n",
    "sizes = [tn,fp,fn,tp]\n",
    "explode = (0.2, 0, 0, 0)\n",
    "\n",
    "fig1, ax1 = plt.subplots()\n",
    "ax1.pie(sizes, explode=explode, labels=labels, autopct='%1.1f%%',\n",
    "        shadow=True, startangle=90)\n",
    "ax1.axis('equal')\n",
    "plt.show()"
   ]
  },
  {
   "cell_type": "code",
   "execution_count": 15,
   "metadata": {},
   "outputs": [
    {
     "name": "stdout",
     "output_type": "stream",
     "text": [
      "              precision    recall  f1-score   support\n",
      "\n",
      "    Not Beat       0.26      0.14      0.18        78\n",
      "        Beat       0.88      0.94      0.91       522\n",
      "\n",
      "    accuracy                           0.84       600\n",
      "   macro avg       0.57      0.54      0.55       600\n",
      "weighted avg       0.80      0.84      0.81       600\n",
      "\n"
     ]
    }
   ],
   "source": [
    "target_names = [\"Not Beat\", \"Beat\"]\n",
    "from sklearn.metrics import classification_report\n",
    "print(classification_report(y_test, predictions,\n",
    "                            target_names=target_names))"
   ]
  },
  {
   "cell_type": "code",
   "execution_count": 16,
   "metadata": {},
   "outputs": [],
   "source": [
    "import pickle\n",
    "pkl_filename = \"knn5.pkl\"\n",
    "with open(pkl_filename, 'wb') as file:\n",
    "    pickle.dump(knn, file)"
   ]
  },
  {
   "cell_type": "code",
   "execution_count": 17,
   "metadata": {},
   "outputs": [],
   "source": [
    "with open(pkl_filename, 'rb') as file:\n",
    "    knn5 = pickle.load(file)"
   ]
  },
  {
   "cell_type": "markdown",
   "metadata": {},
   "source": [
    "# Hyperparameter Tuning"
   ]
  },
  {
   "cell_type": "code",
   "execution_count": 18,
   "metadata": {},
   "outputs": [],
   "source": [
    "from sklearn.model_selection import GridSearchCV\n",
    "param_grid = {'n_neighbors': np.arange(1,10,2), 'algorithm' : ['auto', 'ball_tree', 'kd_tree', 'brute'], 'p' : [1, 2]}\n",
    "\n",
    "grid = GridSearchCV(knn, param_grid, verbose = 3)"
   ]
  },
  {
   "cell_type": "code",
   "execution_count": 19,
   "metadata": {},
   "outputs": [
    {
     "name": "stdout",
     "output_type": "stream",
     "text": [
      "Fitting 3 folds for each of 40 candidates, totalling 120 fits\n",
      "[CV] algorithm=auto, n_neighbors=1, p=1 ..............................\n",
      "[CV] .. algorithm=auto, n_neighbors=1, p=1, score=0.681, total=   0.0s\n",
      "[CV] algorithm=auto, n_neighbors=1, p=1 ..............................\n",
      "[CV] .. algorithm=auto, n_neighbors=1, p=1, score=0.706, total=   0.0s\n",
      "[CV] algorithm=auto, n_neighbors=1, p=1 ..............................\n",
      "[CV] .. algorithm=auto, n_neighbors=1, p=1, score=0.684, total=   0.0s\n",
      "[CV] algorithm=auto, n_neighbors=1, p=2 ..............................\n",
      "[CV] .. algorithm=auto, n_neighbors=1, p=2, score=0.690, total=   0.0s"
     ]
    },
    {
     "name": "stderr",
     "output_type": "stream",
     "text": [
      "C:\\Users\\ashka\\Anaconda3\\lib\\site-packages\\sklearn\\model_selection\\_split.py:1978: FutureWarning: The default value of cv will change from 3 to 5 in version 0.22. Specify it explicitly to silence this warning.\n",
      "  warnings.warn(CV_WARNING, FutureWarning)\n",
      "[Parallel(n_jobs=1)]: Using backend SequentialBackend with 1 concurrent workers.\n",
      "[Parallel(n_jobs=1)]: Done   1 out of   1 | elapsed:    0.0s remaining:    0.0s\n",
      "[Parallel(n_jobs=1)]: Done   2 out of   2 | elapsed:    0.0s remaining:    0.0s\n"
     ]
    },
    {
     "name": "stdout",
     "output_type": "stream",
     "text": [
      "\n",
      "[CV] algorithm=auto, n_neighbors=1, p=2 ..............................\n",
      "[CV] .. algorithm=auto, n_neighbors=1, p=2, score=0.693, total=   0.0s\n",
      "[CV] algorithm=auto, n_neighbors=1, p=2 ..............................\n",
      "[CV] .. algorithm=auto, n_neighbors=1, p=2, score=0.671, total=   0.0s\n",
      "[CV] algorithm=auto, n_neighbors=3, p=1 ..............................\n",
      "[CV] .. algorithm=auto, n_neighbors=3, p=1, score=0.748, total=   0.0s\n",
      "[CV] algorithm=auto, n_neighbors=3, p=1 ..............................\n",
      "[CV] .. algorithm=auto, n_neighbors=3, p=1, score=0.751, total=   0.0s\n",
      "[CV] algorithm=auto, n_neighbors=3, p=1 ..............................\n",
      "[CV] .. algorithm=auto, n_neighbors=3, p=1, score=0.741, total=   0.0s\n",
      "[CV] algorithm=auto, n_neighbors=3, p=2 ..............................\n",
      "[CV] .. algorithm=auto, n_neighbors=3, p=2, score=0.744, total=   0.0s\n",
      "[CV] algorithm=auto, n_neighbors=3, p=2 ..............................\n",
      "[CV] .. algorithm=auto, n_neighbors=3, p=2, score=0.757, total=   0.0s\n",
      "[CV] algorithm=auto, n_neighbors=3, p=2 ..............................\n",
      "[CV] .. algorithm=auto, n_neighbors=3, p=2, score=0.731, total=   0.0s\n",
      "[CV] algorithm=auto, n_neighbors=5, p=1 ..............................\n",
      "[CV] .. algorithm=auto, n_neighbors=5, p=1, score=0.765, total=   0.0s\n",
      "[CV] algorithm=auto, n_neighbors=5, p=1 ..............................\n",
      "[CV] .. algorithm=auto, n_neighbors=5, p=1, score=0.764, total=   0.0s\n",
      "[CV] algorithm=auto, n_neighbors=5, p=1 ..............................\n",
      "[CV] .. algorithm=auto, n_neighbors=5, p=1, score=0.766, total=   0.0s\n",
      "[CV] algorithm=auto, n_neighbors=5, p=2 ..............................\n",
      "[CV] .. algorithm=auto, n_neighbors=5, p=2, score=0.766, total=   0.0s\n",
      "[CV] algorithm=auto, n_neighbors=5, p=2 ..............................\n",
      "[CV] .. algorithm=auto, n_neighbors=5, p=2, score=0.772, total=   0.0s\n",
      "[CV] algorithm=auto, n_neighbors=5, p=2 ..............................\n",
      "[CV] .. algorithm=auto, n_neighbors=5, p=2, score=0.772, total=   0.0s\n",
      "[CV] algorithm=auto, n_neighbors=7, p=1 ..............................\n",
      "[CV] .. algorithm=auto, n_neighbors=7, p=1, score=0.783, total=   0.0s\n",
      "[CV] algorithm=auto, n_neighbors=7, p=1 ..............................\n",
      "[CV] .. algorithm=auto, n_neighbors=7, p=1, score=0.778, total=   0.0s\n",
      "[CV] algorithm=auto, n_neighbors=7, p=1 ..............................\n",
      "[CV] .. algorithm=auto, n_neighbors=7, p=1, score=0.781, total=   0.0s\n",
      "[CV] algorithm=auto, n_neighbors=7, p=2 ..............................\n",
      "[CV] .. algorithm=auto, n_neighbors=7, p=2, score=0.780, total=   0.0s\n",
      "[CV] algorithm=auto, n_neighbors=7, p=2 ..............................\n",
      "[CV] .. algorithm=auto, n_neighbors=7, p=2, score=0.787, total=   0.0s\n",
      "[CV] algorithm=auto, n_neighbors=7, p=2 ..............................\n",
      "[CV] .. algorithm=auto, n_neighbors=7, p=2, score=0.778, total=   0.0s\n",
      "[CV] algorithm=auto, n_neighbors=9, p=1 ..............................\n",
      "[CV] .. algorithm=auto, n_neighbors=9, p=1, score=0.795, total=   0.0s\n",
      "[CV] algorithm=auto, n_neighbors=9, p=1 ..............................\n",
      "[CV] .. algorithm=auto, n_neighbors=9, p=1, score=0.784, total=   0.0s\n",
      "[CV] algorithm=auto, n_neighbors=9, p=1 ..............................\n",
      "[CV] .. algorithm=auto, n_neighbors=9, p=1, score=0.785, total=   0.0s\n",
      "[CV] algorithm=auto, n_neighbors=9, p=2 ..............................\n",
      "[CV] .. algorithm=auto, n_neighbors=9, p=2, score=0.793, total=   0.0s\n",
      "[CV] algorithm=auto, n_neighbors=9, p=2 ..............................\n",
      "[CV] .. algorithm=auto, n_neighbors=9, p=2, score=0.795, total=   0.0s\n",
      "[CV] algorithm=auto, n_neighbors=9, p=2 ..............................\n",
      "[CV] .. algorithm=auto, n_neighbors=9, p=2, score=0.780, total=   0.0s\n",
      "[CV] algorithm=ball_tree, n_neighbors=1, p=1 .........................\n",
      "[CV]  algorithm=ball_tree, n_neighbors=1, p=1, score=0.681, total=   0.1s\n",
      "[CV] algorithm=ball_tree, n_neighbors=1, p=1 .........................\n",
      "[CV]  algorithm=ball_tree, n_neighbors=1, p=1, score=0.706, total=   0.0s\n",
      "[CV] algorithm=ball_tree, n_neighbors=1, p=1 .........................\n",
      "[CV]  algorithm=ball_tree, n_neighbors=1, p=1, score=0.684, total=   0.0s\n",
      "[CV] algorithm=ball_tree, n_neighbors=1, p=2 .........................\n",
      "[CV]  algorithm=ball_tree, n_neighbors=1, p=2, score=0.690, total=   0.0s\n",
      "[CV] algorithm=ball_tree, n_neighbors=1, p=2 .........................\n",
      "[CV]  algorithm=ball_tree, n_neighbors=1, p=2, score=0.693, total=   0.0s\n",
      "[CV] algorithm=ball_tree, n_neighbors=1, p=2 .........................\n",
      "[CV]  algorithm=ball_tree, n_neighbors=1, p=2, score=0.671, total=   0.0s\n",
      "[CV] algorithm=ball_tree, n_neighbors=3, p=1 .........................\n",
      "[CV]  algorithm=ball_tree, n_neighbors=3, p=1, score=0.748, total=   0.0s\n",
      "[CV] algorithm=ball_tree, n_neighbors=3, p=1 .........................\n",
      "[CV]  algorithm=ball_tree, n_neighbors=3, p=1, score=0.751, total=   0.0s\n",
      "[CV] algorithm=ball_tree, n_neighbors=3, p=1 .........................\n",
      "[CV]  algorithm=ball_tree, n_neighbors=3, p=1, score=0.741, total=   0.0s\n",
      "[CV] algorithm=ball_tree, n_neighbors=3, p=2 .........................\n",
      "[CV]  algorithm=ball_tree, n_neighbors=3, p=2, score=0.744, total=   0.0s\n",
      "[CV] algorithm=ball_tree, n_neighbors=3, p=2 .........................\n",
      "[CV]  algorithm=ball_tree, n_neighbors=3, p=2, score=0.757, total=   0.0s\n",
      "[CV] algorithm=ball_tree, n_neighbors=3, p=2 .........................\n",
      "[CV]  algorithm=ball_tree, n_neighbors=3, p=2, score=0.731, total=   0.0s\n",
      "[CV] algorithm=ball_tree, n_neighbors=5, p=1 .........................\n",
      "[CV]  algorithm=ball_tree, n_neighbors=5, p=1, score=0.765, total=   0.0s\n",
      "[CV] algorithm=ball_tree, n_neighbors=5, p=1 .........................\n",
      "[CV]  algorithm=ball_tree, n_neighbors=5, p=1, score=0.764, total=   0.0s\n",
      "[CV] algorithm=ball_tree, n_neighbors=5, p=1 .........................\n",
      "[CV]  algorithm=ball_tree, n_neighbors=5, p=1, score=0.766, total=   0.0s\n",
      "[CV] algorithm=ball_tree, n_neighbors=5, p=2 .........................\n",
      "[CV]  algorithm=ball_tree, n_neighbors=5, p=2, score=0.766, total=   0.0s\n",
      "[CV] algorithm=ball_tree, n_neighbors=5, p=2 .........................\n",
      "[CV]  algorithm=ball_tree, n_neighbors=5, p=2, score=0.772, total=   0.0s\n",
      "[CV] algorithm=ball_tree, n_neighbors=5, p=2 .........................\n",
      "[CV]  algorithm=ball_tree, n_neighbors=5, p=2, score=0.772, total=   0.0s\n",
      "[CV] algorithm=ball_tree, n_neighbors=7, p=1 .........................\n",
      "[CV]  algorithm=ball_tree, n_neighbors=7, p=1, score=0.783, total=   0.0s\n",
      "[CV] algorithm=ball_tree, n_neighbors=7, p=1 .........................\n",
      "[CV]  algorithm=ball_tree, n_neighbors=7, p=1, score=0.778, total=   0.0s\n",
      "[CV] algorithm=ball_tree, n_neighbors=7, p=1 .........................\n",
      "[CV]  algorithm=ball_tree, n_neighbors=7, p=1, score=0.781, total=   0.0s\n",
      "[CV] algorithm=ball_tree, n_neighbors=7, p=2 .........................\n",
      "[CV]  algorithm=ball_tree, n_neighbors=7, p=2, score=0.780, total=   0.0s\n",
      "[CV] algorithm=ball_tree, n_neighbors=7, p=2 .........................\n",
      "[CV]  algorithm=ball_tree, n_neighbors=7, p=2, score=0.787, total=   0.0s\n",
      "[CV] algorithm=ball_tree, n_neighbors=7, p=2 .........................\n",
      "[CV]  algorithm=ball_tree, n_neighbors=7, p=2, score=0.778, total=   0.0s\n",
      "[CV] algorithm=ball_tree, n_neighbors=9, p=1 .........................\n",
      "[CV]  algorithm=ball_tree, n_neighbors=9, p=1, score=0.795, total=   0.0s\n",
      "[CV] algorithm=ball_tree, n_neighbors=9, p=1 .........................\n",
      "[CV]  algorithm=ball_tree, n_neighbors=9, p=1, score=0.784, total=   0.0s\n",
      "[CV] algorithm=ball_tree, n_neighbors=9, p=1 .........................\n",
      "[CV]  algorithm=ball_tree, n_neighbors=9, p=1, score=0.785, total=   0.1s\n",
      "[CV] algorithm=ball_tree, n_neighbors=9, p=2 .........................\n",
      "[CV]  algorithm=ball_tree, n_neighbors=9, p=2, score=0.793, total=   0.0s\n",
      "[CV] algorithm=ball_tree, n_neighbors=9, p=2 .........................\n",
      "[CV]  algorithm=ball_tree, n_neighbors=9, p=2, score=0.795, total=   0.0s\n",
      "[CV] algorithm=ball_tree, n_neighbors=9, p=2 .........................\n",
      "[CV]  algorithm=ball_tree, n_neighbors=9, p=2, score=0.780, total=   0.0s\n",
      "[CV] algorithm=kd_tree, n_neighbors=1, p=1 ...........................\n",
      "[CV]  algorithm=kd_tree, n_neighbors=1, p=1, score=0.681, total=   0.0s\n",
      "[CV] algorithm=kd_tree, n_neighbors=1, p=1 ...........................\n",
      "[CV]  algorithm=kd_tree, n_neighbors=1, p=1, score=0.706, total=   0.0s\n",
      "[CV] algorithm=kd_tree, n_neighbors=1, p=1 ...........................\n"
     ]
    },
    {
     "name": "stdout",
     "output_type": "stream",
     "text": [
      "[CV]  algorithm=kd_tree, n_neighbors=1, p=1, score=0.684, total=   0.0s\n",
      "[CV] algorithm=kd_tree, n_neighbors=1, p=2 ...........................\n",
      "[CV]  algorithm=kd_tree, n_neighbors=1, p=2, score=0.690, total=   0.0s\n",
      "[CV] algorithm=kd_tree, n_neighbors=1, p=2 ...........................\n",
      "[CV]  algorithm=kd_tree, n_neighbors=1, p=2, score=0.693, total=   0.0s\n",
      "[CV] algorithm=kd_tree, n_neighbors=1, p=2 ...........................\n",
      "[CV]  algorithm=kd_tree, n_neighbors=1, p=2, score=0.671, total=   0.0s\n",
      "[CV] algorithm=kd_tree, n_neighbors=3, p=1 ...........................\n",
      "[CV]  algorithm=kd_tree, n_neighbors=3, p=1, score=0.748, total=   0.0s\n",
      "[CV] algorithm=kd_tree, n_neighbors=3, p=1 ...........................\n",
      "[CV]  algorithm=kd_tree, n_neighbors=3, p=1, score=0.751, total=   0.0s\n",
      "[CV] algorithm=kd_tree, n_neighbors=3, p=1 ...........................\n",
      "[CV]  algorithm=kd_tree, n_neighbors=3, p=1, score=0.741, total=   0.0s\n",
      "[CV] algorithm=kd_tree, n_neighbors=3, p=2 ...........................\n",
      "[CV]  algorithm=kd_tree, n_neighbors=3, p=2, score=0.744, total=   0.0s\n",
      "[CV] algorithm=kd_tree, n_neighbors=3, p=2 ...........................\n",
      "[CV]  algorithm=kd_tree, n_neighbors=3, p=2, score=0.757, total=   0.0s\n",
      "[CV] algorithm=kd_tree, n_neighbors=3, p=2 ...........................\n",
      "[CV]  algorithm=kd_tree, n_neighbors=3, p=2, score=0.731, total=   0.0s\n",
      "[CV] algorithm=kd_tree, n_neighbors=5, p=1 ...........................\n",
      "[CV]  algorithm=kd_tree, n_neighbors=5, p=1, score=0.765, total=   0.0s\n",
      "[CV] algorithm=kd_tree, n_neighbors=5, p=1 ...........................\n",
      "[CV]  algorithm=kd_tree, n_neighbors=5, p=1, score=0.764, total=   0.0s\n",
      "[CV] algorithm=kd_tree, n_neighbors=5, p=1 ...........................\n",
      "[CV]  algorithm=kd_tree, n_neighbors=5, p=1, score=0.766, total=   0.0s\n",
      "[CV] algorithm=kd_tree, n_neighbors=5, p=2 ...........................\n",
      "[CV]  algorithm=kd_tree, n_neighbors=5, p=2, score=0.766, total=   0.0s\n",
      "[CV] algorithm=kd_tree, n_neighbors=5, p=2 ...........................\n",
      "[CV]  algorithm=kd_tree, n_neighbors=5, p=2, score=0.772, total=   0.0s\n",
      "[CV] algorithm=kd_tree, n_neighbors=5, p=2 ...........................\n",
      "[CV]  algorithm=kd_tree, n_neighbors=5, p=2, score=0.772, total=   0.0s\n",
      "[CV] algorithm=kd_tree, n_neighbors=7, p=1 ...........................\n",
      "[CV]  algorithm=kd_tree, n_neighbors=7, p=1, score=0.783, total=   0.0s\n",
      "[CV] algorithm=kd_tree, n_neighbors=7, p=1 ...........................\n",
      "[CV]  algorithm=kd_tree, n_neighbors=7, p=1, score=0.778, total=   0.0s\n",
      "[CV] algorithm=kd_tree, n_neighbors=7, p=1 ...........................\n",
      "[CV]  algorithm=kd_tree, n_neighbors=7, p=1, score=0.781, total=   0.0s\n",
      "[CV] algorithm=kd_tree, n_neighbors=7, p=2 ...........................\n",
      "[CV]  algorithm=kd_tree, n_neighbors=7, p=2, score=0.780, total=   0.0s\n",
      "[CV] algorithm=kd_tree, n_neighbors=7, p=2 ...........................\n",
      "[CV]  algorithm=kd_tree, n_neighbors=7, p=2, score=0.787, total=   0.0s\n",
      "[CV] algorithm=kd_tree, n_neighbors=7, p=2 ...........................\n",
      "[CV]  algorithm=kd_tree, n_neighbors=7, p=2, score=0.778, total=   0.0s\n",
      "[CV] algorithm=kd_tree, n_neighbors=9, p=1 ...........................\n",
      "[CV]  algorithm=kd_tree, n_neighbors=9, p=1, score=0.795, total=   0.0s\n",
      "[CV] algorithm=kd_tree, n_neighbors=9, p=1 ...........................\n",
      "[CV]  algorithm=kd_tree, n_neighbors=9, p=1, score=0.784, total=   0.0s\n",
      "[CV] algorithm=kd_tree, n_neighbors=9, p=1 ...........................\n",
      "[CV]  algorithm=kd_tree, n_neighbors=9, p=1, score=0.785, total=   0.0s\n",
      "[CV] algorithm=kd_tree, n_neighbors=9, p=2 ...........................\n",
      "[CV]  algorithm=kd_tree, n_neighbors=9, p=2, score=0.793, total=   0.0s\n",
      "[CV] algorithm=kd_tree, n_neighbors=9, p=2 ...........................\n",
      "[CV]  algorithm=kd_tree, n_neighbors=9, p=2, score=0.795, total=   0.0s\n",
      "[CV] algorithm=kd_tree, n_neighbors=9, p=2 ...........................\n",
      "[CV]  algorithm=kd_tree, n_neighbors=9, p=2, score=0.780, total=   0.0s\n",
      "[CV] algorithm=brute, n_neighbors=1, p=1 .............................\n",
      "[CV] . algorithm=brute, n_neighbors=1, p=1, score=0.681, total=   0.1s\n",
      "[CV] algorithm=brute, n_neighbors=1, p=1 .............................\n",
      "[CV] . algorithm=brute, n_neighbors=1, p=1, score=0.706, total=   0.1s\n",
      "[CV] algorithm=brute, n_neighbors=1, p=1 .............................\n",
      "[CV] . algorithm=brute, n_neighbors=1, p=1, score=0.684, total=   0.1s\n",
      "[CV] algorithm=brute, n_neighbors=1, p=2 .............................\n",
      "[CV] . algorithm=brute, n_neighbors=1, p=2, score=0.690, total=   0.1s\n",
      "[CV] algorithm=brute, n_neighbors=1, p=2 .............................\n",
      "[CV] . algorithm=brute, n_neighbors=1, p=2, score=0.693, total=   0.1s\n",
      "[CV] algorithm=brute, n_neighbors=1, p=2 .............................\n",
      "[CV] . algorithm=brute, n_neighbors=1, p=2, score=0.671, total=   0.1s\n",
      "[CV] algorithm=brute, n_neighbors=3, p=1 .............................\n",
      "[CV] . algorithm=brute, n_neighbors=3, p=1, score=0.748, total=   0.1s\n",
      "[CV] algorithm=brute, n_neighbors=3, p=1 .............................\n",
      "[CV] . algorithm=brute, n_neighbors=3, p=1, score=0.751, total=   0.1s\n",
      "[CV] algorithm=brute, n_neighbors=3, p=1 .............................\n",
      "[CV] . algorithm=brute, n_neighbors=3, p=1, score=0.741, total=   0.1s\n",
      "[CV] algorithm=brute, n_neighbors=3, p=2 .............................\n",
      "[CV] . algorithm=brute, n_neighbors=3, p=2, score=0.744, total=   0.1s\n",
      "[CV] algorithm=brute, n_neighbors=3, p=2 .............................\n",
      "[CV] . algorithm=brute, n_neighbors=3, p=2, score=0.757, total=   0.1s\n",
      "[CV] algorithm=brute, n_neighbors=3, p=2 .............................\n",
      "[CV] . algorithm=brute, n_neighbors=3, p=2, score=0.731, total=   0.1s\n",
      "[CV] algorithm=brute, n_neighbors=5, p=1 .............................\n",
      "[CV] . algorithm=brute, n_neighbors=5, p=1, score=0.765, total=   0.1s\n",
      "[CV] algorithm=brute, n_neighbors=5, p=1 .............................\n",
      "[CV] . algorithm=brute, n_neighbors=5, p=1, score=0.764, total=   0.1s\n",
      "[CV] algorithm=brute, n_neighbors=5, p=1 .............................\n",
      "[CV] . algorithm=brute, n_neighbors=5, p=1, score=0.766, total=   0.1s\n",
      "[CV] algorithm=brute, n_neighbors=5, p=2 .............................\n",
      "[CV] . algorithm=brute, n_neighbors=5, p=2, score=0.766, total=   0.1s\n",
      "[CV] algorithm=brute, n_neighbors=5, p=2 .............................\n",
      "[CV] . algorithm=brute, n_neighbors=5, p=2, score=0.772, total=   0.1s\n",
      "[CV] algorithm=brute, n_neighbors=5, p=2 .............................\n",
      "[CV] . algorithm=brute, n_neighbors=5, p=2, score=0.772, total=   0.1s\n",
      "[CV] algorithm=brute, n_neighbors=7, p=1 .............................\n",
      "[CV] . algorithm=brute, n_neighbors=7, p=1, score=0.783, total=   0.1s\n",
      "[CV] algorithm=brute, n_neighbors=7, p=1 .............................\n",
      "[CV] . algorithm=brute, n_neighbors=7, p=1, score=0.778, total=   0.1s\n",
      "[CV] algorithm=brute, n_neighbors=7, p=1 .............................\n",
      "[CV] . algorithm=brute, n_neighbors=7, p=1, score=0.781, total=   0.1s\n",
      "[CV] algorithm=brute, n_neighbors=7, p=2 .............................\n",
      "[CV] . algorithm=brute, n_neighbors=7, p=2, score=0.780, total=   0.1s\n",
      "[CV] algorithm=brute, n_neighbors=7, p=2 .............................\n",
      "[CV] . algorithm=brute, n_neighbors=7, p=2, score=0.787, total=   0.1s\n",
      "[CV] algorithm=brute, n_neighbors=7, p=2 .............................\n",
      "[CV] . algorithm=brute, n_neighbors=7, p=2, score=0.778, total=   0.1s\n",
      "[CV] algorithm=brute, n_neighbors=9, p=1 .............................\n",
      "[CV] . algorithm=brute, n_neighbors=9, p=1, score=0.795, total=   0.1s\n",
      "[CV] algorithm=brute, n_neighbors=9, p=1 .............................\n",
      "[CV] . algorithm=brute, n_neighbors=9, p=1, score=0.784, total=   0.1s\n",
      "[CV] algorithm=brute, n_neighbors=9, p=1 .............................\n",
      "[CV] . algorithm=brute, n_neighbors=9, p=1, score=0.785, total=   0.1s\n",
      "[CV] algorithm=brute, n_neighbors=9, p=2 .............................\n",
      "[CV] . algorithm=brute, n_neighbors=9, p=2, score=0.793, total=   0.1s\n",
      "[CV] algorithm=brute, n_neighbors=9, p=2 .............................\n",
      "[CV] . algorithm=brute, n_neighbors=9, p=2, score=0.795, total=   0.1s\n",
      "[CV] algorithm=brute, n_neighbors=9, p=2 .............................\n",
      "[CV] . algorithm=brute, n_neighbors=9, p=2, score=0.780, total=   0.1s\n"
     ]
    },
    {
     "name": "stderr",
     "output_type": "stream",
     "text": [
      "[Parallel(n_jobs=1)]: Done 120 out of 120 | elapsed:    5.6s finished\n"
     ]
    },
    {
     "data": {
      "text/plain": [
       "GridSearchCV(cv='warn', error_score='raise-deprecating',\n",
       "             estimator=KNeighborsClassifier(algorithm='auto', leaf_size=30,\n",
       "                                            metric='minkowski',\n",
       "                                            metric_params=None, n_jobs=None,\n",
       "                                            n_neighbors=5, p=2,\n",
       "                                            weights='uniform'),\n",
       "             iid='warn', n_jobs=None,\n",
       "             param_grid={'algorithm': ['auto', 'ball_tree', 'kd_tree', 'brute'],\n",
       "                         'n_neighbors': array([1, 3, 5, 7, 9]), 'p': [1, 2]},\n",
       "             pre_dispatch='2*n_jobs', refit=True, return_train_score=False,\n",
       "             scoring=None, verbose=3)"
      ]
     },
     "execution_count": 19,
     "metadata": {},
     "output_type": "execute_result"
    }
   ],
   "source": [
    "grid.fit(X_train_scaled, y_train)"
   ]
  },
  {
   "cell_type": "code",
   "execution_count": 20,
   "metadata": {},
   "outputs": [
    {
     "name": "stdout",
     "output_type": "stream",
     "text": [
      "{'algorithm': 'auto', 'n_neighbors': 9, 'p': 2}\n",
      "0.7893333333333333\n"
     ]
    }
   ],
   "source": [
    "print(grid.best_params_)\n",
    "print(grid.best_score_)"
   ]
  },
  {
   "cell_type": "code",
   "execution_count": 21,
   "metadata": {},
   "outputs": [],
   "source": [
    "predictions = grid.predict(X_test_scaled)"
   ]
  },
  {
   "cell_type": "code",
   "execution_count": 22,
   "metadata": {},
   "outputs": [
    {
     "name": "stdout",
     "output_type": "stream",
     "text": [
      "              precision    recall  f1-score   support\n",
      "\n",
      "    Not Beat       0.38      0.04      0.07        78\n",
      "        Beat       0.87      0.99      0.93       522\n",
      "\n",
      "    accuracy                           0.87       600\n",
      "   macro avg       0.62      0.51      0.50       600\n",
      "weighted avg       0.81      0.87      0.82       600\n",
      "\n"
     ]
    }
   ],
   "source": [
    "target_names = [\"Not Beat\", \"Beat\"]\n",
    "from sklearn.metrics import classification_report\n",
    "print(classification_report(y_test, predictions,\n",
    "                            target_names=target_names))"
   ]
  },
  {
   "cell_type": "code",
   "execution_count": 23,
   "metadata": {},
   "outputs": [
    {
     "name": "stdout",
     "output_type": "stream",
     "text": [
      "Training Data Score: 0.8063333333333333\n",
      "Testing Data Score: 0.8666666666666667\n"
     ]
    }
   ],
   "source": [
    "print(f\"Training Data Score: {grid.score(X_train_scaled, y_train)}\")\n",
    "print(f\"Testing Data Score: {grid.score(X_test_scaled, y_test)}\")"
   ]
  },
  {
   "cell_type": "code",
   "execution_count": 24,
   "metadata": {},
   "outputs": [
    {
     "data": {
      "text/html": [
       "<div>\n",
       "<style scoped>\n",
       "    .dataframe tbody tr th:only-of-type {\n",
       "        vertical-align: middle;\n",
       "    }\n",
       "\n",
       "    .dataframe tbody tr th {\n",
       "        vertical-align: top;\n",
       "    }\n",
       "\n",
       "    .dataframe thead th {\n",
       "        text-align: right;\n",
       "    }\n",
       "</style>\n",
       "<table border=\"1\" class=\"dataframe\">\n",
       "  <thead>\n",
       "    <tr style=\"text-align: right;\">\n",
       "      <th></th>\n",
       "      <th>Prediction</th>\n",
       "      <th>Actual</th>\n",
       "    </tr>\n",
       "  </thead>\n",
       "  <tbody>\n",
       "    <tr>\n",
       "      <th>0</th>\n",
       "      <td>1</td>\n",
       "      <td>0</td>\n",
       "    </tr>\n",
       "    <tr>\n",
       "      <th>1</th>\n",
       "      <td>1</td>\n",
       "      <td>0</td>\n",
       "    </tr>\n",
       "    <tr>\n",
       "      <th>2</th>\n",
       "      <td>1</td>\n",
       "      <td>1</td>\n",
       "    </tr>\n",
       "    <tr>\n",
       "      <th>3</th>\n",
       "      <td>1</td>\n",
       "      <td>1</td>\n",
       "    </tr>\n",
       "    <tr>\n",
       "      <th>4</th>\n",
       "      <td>1</td>\n",
       "      <td>0</td>\n",
       "    </tr>\n",
       "  </tbody>\n",
       "</table>\n",
       "</div>"
      ],
      "text/plain": [
       "   Prediction  Actual\n",
       "0           1       0\n",
       "1           1       0\n",
       "2           1       1\n",
       "3           1       1\n",
       "4           1       0"
      ]
     },
     "execution_count": 24,
     "metadata": {},
     "output_type": "execute_result"
    }
   ],
   "source": [
    "gg = pd.DataFrame({\"Prediction\": predictions, \"Actual\":y_test})\n",
    "gg.head()"
   ]
  },
  {
   "cell_type": "code",
   "execution_count": 25,
   "metadata": {},
   "outputs": [
    {
     "data": {
      "text/plain": [
       "0.8666666666666667"
      ]
     },
     "execution_count": 25,
     "metadata": {},
     "output_type": "execute_result"
    }
   ],
   "source": [
    "s = gg[\"Prediction\"].count()\n",
    "wrong = 0\n",
    "for i in range(0,s):\n",
    "    a=gg[\"Prediction\"].iloc[i]\n",
    "    b=gg[\"Actual\"].iloc[i]\n",
    "    if a != b:\n",
    "        wrong = wrong + 1\n",
    "        \n",
    "(s - wrong) / s"
   ]
  },
  {
   "cell_type": "code",
   "execution_count": 26,
   "metadata": {},
   "outputs": [
    {
     "data": {
      "text/html": [
       "<div>\n",
       "<style scoped>\n",
       "    .dataframe tbody tr th:only-of-type {\n",
       "        vertical-align: middle;\n",
       "    }\n",
       "\n",
       "    .dataframe tbody tr th {\n",
       "        vertical-align: top;\n",
       "    }\n",
       "\n",
       "    .dataframe thead th {\n",
       "        text-align: right;\n",
       "    }\n",
       "</style>\n",
       "<table border=\"1\" class=\"dataframe\">\n",
       "  <thead>\n",
       "    <tr style=\"text-align: right;\">\n",
       "      <th></th>\n",
       "      <th>Prediction</th>\n",
       "      <th>Actual</th>\n",
       "    </tr>\n",
       "  </thead>\n",
       "  <tbody>\n",
       "    <tr>\n",
       "      <th>218</th>\n",
       "      <td>0</td>\n",
       "      <td>1</td>\n",
       "    </tr>\n",
       "    <tr>\n",
       "      <th>874</th>\n",
       "      <td>0</td>\n",
       "      <td>0</td>\n",
       "    </tr>\n",
       "    <tr>\n",
       "      <th>1162</th>\n",
       "      <td>0</td>\n",
       "      <td>1</td>\n",
       "    </tr>\n",
       "    <tr>\n",
       "      <th>1443</th>\n",
       "      <td>0</td>\n",
       "      <td>1</td>\n",
       "    </tr>\n",
       "    <tr>\n",
       "      <th>1948</th>\n",
       "      <td>0</td>\n",
       "      <td>0</td>\n",
       "    </tr>\n",
       "    <tr>\n",
       "      <th>2595</th>\n",
       "      <td>0</td>\n",
       "      <td>1</td>\n",
       "    </tr>\n",
       "    <tr>\n",
       "      <th>2814</th>\n",
       "      <td>0</td>\n",
       "      <td>0</td>\n",
       "    </tr>\n",
       "    <tr>\n",
       "      <th>3240</th>\n",
       "      <td>0</td>\n",
       "      <td>1</td>\n",
       "    </tr>\n",
       "  </tbody>\n",
       "</table>\n",
       "</div>"
      ],
      "text/plain": [
       "      Prediction  Actual\n",
       "218            0       1\n",
       "874            0       0\n",
       "1162           0       1\n",
       "1443           0       1\n",
       "1948           0       0\n",
       "2595           0       1\n",
       "2814           0       0\n",
       "3240           0       1"
      ]
     },
     "execution_count": 26,
     "metadata": {},
     "output_type": "execute_result"
    }
   ],
   "source": [
    "df_check = gg.loc[gg[\"Prediction\"] == 0]\n",
    "df_check"
   ]
  },
  {
   "cell_type": "code",
   "execution_count": 27,
   "metadata": {},
   "outputs": [
    {
     "data": {
      "image/png": "[encoded data removed]",
      "text/plain": [
       "<Figure size 432x288 with 1 Axes>"
      ]
     },
     "metadata": {},
     "output_type": "display_data"
    }
   ],
   "source": [
    "from sklearn.metrics import confusion_matrix\n",
    "import matplotlib.pyplot as plt\n",
    "\n",
    "conf = confusion_matrix(gg['Actual'], gg['Prediction'])\n",
    "\n",
    "tn = conf[0][0]\n",
    "fp = conf[0][1]\n",
    "fn = conf[1][0]\n",
    "tp = conf[1][1]\n",
    "\n",
    "labels = 'True Negative', 'False Negative', 'False Positive', 'True Positive'\n",
    "sizes = [tn,fp,fn,tp]\n",
    "explode = (0.2, 0, 0, 0)\n",
    "\n",
    "fig1, ax1 = plt.subplots()\n",
    "ax1.pie(sizes, explode=explode, labels=labels, autopct='%1.1f%%',\n",
    "        shadow=True, startangle=90)\n",
    "ax1.axis('equal')\n",
    "plt.show()"
   ]
  },
  {
   "cell_type": "code",
   "execution_count": 28,
   "metadata": {},
   "outputs": [],
   "source": [
    "pkl_filename = \"knn9.pkl\"\n",
    "with open(pkl_filename, 'wb') as file:\n",
    "    pickle.dump(grid, file)"
   ]
  },
  {
   "cell_type": "code",
   "execution_count": 29,
   "metadata": {},
   "outputs": [],
   "source": [
    "with open(pkl_filename, 'rb') as file:\n",
    "    knn9 = pickle.load(file)"
   ]
  },
  {
   "cell_type": "code",
   "execution_count": 30,
   "metadata": {},
   "outputs": [],
   "source": [
    "predictions = knn9.predict(X_test_scaled)"
   ]
  },
  {
   "cell_type": "code",
   "execution_count": 31,
   "metadata": {},
   "outputs": [
    {
     "name": "stdout",
     "output_type": "stream",
     "text": [
      "              precision    recall  f1-score   support\n",
      "\n",
      "    Not Beat       0.38      0.04      0.07        78\n",
      "        Beat       0.87      0.99      0.93       522\n",
      "\n",
      "    accuracy                           0.87       600\n",
      "   macro avg       0.62      0.51      0.50       600\n",
      "weighted avg       0.81      0.87      0.82       600\n",
      "\n"
     ]
    }
   ],
   "source": [
    "target_names = [\"Not Beat\", \"Beat\"]\n",
    "from sklearn.metrics import classification_report\n",
    "print(classification_report(y_test, predictions,\n",
    "                            target_names=target_names))"
   ]
  }
 ],
 "metadata": {
  "kernelspec": {
   "display_name": "Python 3",
   "language": "python",
   "name": "python3"
  },
  "language_info": {
   "codemirror_mode": {
    "name": "ipython",
    "version": 3
   },
   "file_extension": ".py",
   "mimetype": "text/x-python",
   "name": "python",
   "nbconvert_exporter": "python",
   "pygments_lexer": "ipython3",
   "version": "3.7.3"
  }
 },
 "nbformat": 4,
 "nbformat_minor": 2
}
